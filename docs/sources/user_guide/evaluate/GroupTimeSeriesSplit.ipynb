{
 "cells": [
  {
   "cell_type": "markdown",
   "metadata": {},
   "source": [
    "# GroupTimeSeriesSplit: A scikit-learn compatible version of the time series validation with groups"
   ]
  },
  {
   "cell_type": "markdown",
   "metadata": {},
   "source": [
    "A scikit-learn-compatible time series cross-validator that supports non-overlapping groups."
   ]
  },
  {
   "cell_type": "markdown",
   "metadata": {},
   "source": [
    "> `from mlxtend.evaluate import GroupTimeSeriesSplit`    "
   ]
  },
  {
   "cell_type": "markdown",
   "metadata": {},
   "source": [
    "## Overview"
   ]
  },
  {
   "cell_type": "markdown",
   "metadata": {},
   "source": [
    "Time series tasks in machine learning require special type of validation, because the time order of the objects is important for a fairer evaluation of an ML model’s quality.  \n",
    "Also there can be different time units for splitting the data for different tasks - hours, days, months etc.  \n",
    "\n",
    "Here, we use time series validation with support of the groups which can be flexibly configured along with other parameters:\n",
    "\n",
    "- Test size\n",
    "- Train size\n",
    "- Number of splits\n",
    "- Gap size\n",
    "- Shift size  \n",
    "- Window type  \n",
    "\n",
    "This `GroupTimeSeriesSplit` implementation is inspired by scikit-learn's [TimeSeriesSplit](https://scikit-learn.org/stable/modules/generated/sklearn.model_selection.TimeSeriesSplit.html) but it has several advantages:\n",
    "\n",
    "- `GroupTimeSeriesSplit` lets you group data as you want before splitting, while `TimeSeriesSplit` only considers the record level.\n",
    "- It can be used for both holdout validation (n_splits=1) and cross-validation (n_splits>=2), whereas `TimeSeriesSplit` can be used only for the latter case.\n",
    "- `TimeSeriesSplit` uses only an expanding window, while for this implementation you can choose between both rolling and expanding window types.\n",
    "- `GroupTimeSeriesSplit` offers additional control for splitting using an additional `shift size` parameter.\n",
    "\n",
    "**There are several features that need to be taken into account:**\n",
    "\n",
    "- `GroupTimeSeriesSplit` is compatible with sklearn-learn API.\n",
    "- Numbers or custom non-numeric values can be used as groups\n",
    "- However, groups should be consecutive\n",
    "- Specifying the test size with either a) the train size or b) the number of splits is required parameters for splitting\n",
    "- If full data can’t be used with specific parameters, the most recent data is considered for splitting\n",
    "- If splitting is impossible (e.g., there is not enough data to split) using specified parameters, an exception will be raised "
   ]
  },
  {
   "cell_type": "markdown",
   "metadata": {},
   "source": [
    "Before we illustrate the usage of `GroupTimeSeriesSplit` in the following examples below, let's set up a `DummyClassifier` that we will reuse in the following sections. Also, let's import the libraries we will be using in the following examples:"
   ]
  },
  {
   "cell_type": "code",
   "execution_count": 1,
   "metadata": {},
   "outputs": [],
   "source": [
    "import numpy as np\n",
    "import pandas as pd\n",
    "from sklearn.dummy import DummyClassifier\n",
    "from sklearn.model_selection import cross_val_score\n",
    "\n",
    "from mlxtend.evaluate.time_series import (\n",
    "    GroupTimeSeriesSplit,\n",
    "    plot_splits,\n",
    "    print_cv_info,\n",
    "    print_split_info,\n",
    ")"
   ]
  },
  {
   "cell_type": "markdown",
   "metadata": {
    "tags": []
   },
   "source": [
    "## Prepare sample data"
   ]
  },
  {
   "cell_type": "markdown",
   "metadata": {},
   "source": [
    "For the following examples, we are creating sample dataset consisting of 16 training data points with corresponding targets."
   ]
  },
  {
   "cell_type": "markdown",
   "metadata": {},
   "source": [
    "### Features and targets"
   ]
  },
  {
   "cell_type": "markdown",
   "metadata": {},
   "source": [
    "Let's assume that we have one numeric feature and target for the binary classification task."
   ]
  },
  {
   "cell_type": "code",
   "execution_count": 2,
   "metadata": {},
   "outputs": [],
   "source": [
    "data = [[0], [7], [6], [4], [4], [8], [0], [6], [2], [0], [5], [9], [7], [7], [7], [7]]\n",
    "target = [1, 0, 1, 0, 1, 0, 0, 1, 1, 1, 0, 1, 1, 0, 0, 0]\n",
    "\n",
    "X = pd.DataFrame(data, columns=[\"num_feature\"])\n",
    "y = pd.Series(target, name=\"target\")"
   ]
  },
  {
   "cell_type": "markdown",
   "metadata": {},
   "source": [
    "### Group numbers"
   ]
  },
  {
   "cell_type": "markdown",
   "metadata": {},
   "source": [
    "We create 6 different groups so that the first training example belongs to group 0, the next 4 to group 1, and so forth.  \n",
    "These groups do not have to be in ascending order (as in this dataset), **but they must be consecutive.**"
   ]
  },
  {
   "cell_type": "code",
   "execution_count": 3,
   "metadata": {},
   "outputs": [
    {
     "data": {
      "text/plain": [
       "array([0, 1, 1, 1, 1, 2, 2, 2, 3, 3, 4, 4, 5, 5, 5, 5])"
      ]
     },
     "execution_count": 3,
     "metadata": {},
     "output_type": "execute_result"
    }
   ],
   "source": [
    "groups = np.array([0, 1, 1, 1, 1, 2, 2, 2, 3, 3, 4, 4, 5, 5, 5, 5])\n",
    "groups"
   ]
  },
  {
   "cell_type": "markdown",
   "metadata": {},
   "source": [
    "Note that the following i another example of a  **correct** group ordering (not sorted but consecutive):\n",
    "```python\n",
    "np.array([5, 5, 5, 5, 1, 1, 1, 1, 3, 3, 2, 2, 2, 4, 4, 0])\n",
    "```\n",
    "\n",
    "However, the example below shows an **incorrect** group ordering (not consecutive), which is not compatible with `GroupTimeSeriesSplit`:\n",
    "```python\n",
    "np.array([0, 1, 1, 1, 1, 2, 2, 2, 3, 3, 4, 4, 2, 2, 2, 2])\n",
    "```"
   ]
  },
  {
   "cell_type": "markdown",
   "metadata": {},
   "source": [
    "### Group names (months)"
   ]
  },
  {
   "cell_type": "markdown",
   "metadata": {},
   "source": [
    "We will add months as the index according to the specified groups for a more illustrative example."
   ]
  },
  {
   "cell_type": "code",
   "execution_count": 4,
   "metadata": {},
   "outputs": [
    {
     "data": {
      "text/plain": [
       "array(['2021-01', '2021-02', '2021-02', '2021-02', '2021-02', '2021-03',\n",
       "       '2021-03', '2021-03', '2021-04', '2021-04', '2021-05', '2021-05',\n",
       "       '2021-06', '2021-06', '2021-06', '2021-06'], dtype='<U7')"
      ]
     },
     "execution_count": 4,
     "metadata": {},
     "output_type": "execute_result"
    }
   ],
   "source": [
    "months_map = {i: f\"2021-0{i+1}\" for i in range(6)}\n",
    "months = np.array([months_map[group] for group in groups])\n",
    "months"
   ]
  },
  {
   "cell_type": "code",
   "execution_count": 5,
   "metadata": {},
   "outputs": [],
   "source": [
    "X = X.set_index(months)"
   ]
  },
  {
   "cell_type": "markdown",
   "metadata": {},
   "source": [
    "## Example 1 -- Multiple training groups (with train size specified)"
   ]
  },
  {
   "cell_type": "markdown",
   "metadata": {},
   "source": [
    "Let's create a time series splitting with a training dataset that consists of 3 groups. And we will use 1 group for testing. In this case, the number of splits will be calculated automatically since both the training set and the test set sizes are specified.\n",
    "\n",
    "The first 3 rows in the visualization describe how each split is distributed among groups.  \n",
    "The groups are visualized in the last row where each color represents different group."
   ]
  },
  {
   "cell_type": "code",
   "execution_count": 6,
   "metadata": {},
   "outputs": [
    {
     "data": {
      "image/png": "[encoded data removed]",
      "text/plain": [
       "<Figure size 864x288 with 1 Axes>"
      ]
     },
     "metadata": {
      "needs_background": "light"
     },
     "output_type": "display_data"
    },
    {
     "name": "stdout",
     "output_type": "stream",
     "text": [
      "Train indices: [0 1 2 3 4 5 6 7]\n",
      "Test indices: [8 9]\n",
      "Train length: 8\n",
      "Test length: 2\n",
      "Train groups: [0 1 1 1 1 2 2 2]\n",
      "Test groups: [3 3]\n",
      "Train group size: 3\n",
      "Test group size: 1\n",
      "Train group months: ['2021-01' '2021-02' '2021-02' '2021-02' '2021-02' '2021-03' '2021-03'\n",
      " '2021-03']\n",
      "Test group months: ['2021-04' '2021-04']\n",
      "\n",
      "Train indices: [1 2 3 4 5 6 7 8 9]\n",
      "Test indices: [10 11]\n",
      "Train length: 9\n",
      "Test length: 2\n",
      "Train groups: [1 1 1 1 2 2 2 3 3]\n",
      "Test groups: [4 4]\n",
      "Train group size: 3\n",
      "Test group size: 1\n",
      "Train group months: ['2021-02' '2021-02' '2021-02' '2021-02' '2021-03' '2021-03' '2021-03'\n",
      " '2021-04' '2021-04']\n",
      "Test group months: ['2021-05' '2021-05']\n",
      "\n",
      "Train indices: [ 5  6  7  8  9 10 11]\n",
      "Test indices: [12 13 14 15]\n",
      "Train length: 7\n",
      "Test length: 4\n",
      "Train groups: [2 2 2 3 3 4 4]\n",
      "Test groups: [5 5 5 5]\n",
      "Train group size: 3\n",
      "Test group size: 1\n",
      "Train group months: ['2021-03' '2021-03' '2021-03' '2021-04' '2021-04' '2021-05' '2021-05']\n",
      "Test group months: ['2021-06' '2021-06' '2021-06' '2021-06']\n",
      "\n"
     ]
    }
   ],
   "source": [
    "cv_args = {\"test_size\": 1, \"train_size\": 3}\n",
    "\n",
    "plot_splits(X, y, groups, **cv_args)\n",
    "print_split_info(X, y, groups, **cv_args)"
   ]
  },
  {
   "cell_type": "markdown",
   "metadata": {},
   "source": [
    "Please note that if we specify the number of groups for both the training and the test set, the split size is determined automatically, and the number of splits naturally changes with the groups sizes. For example, increasing the number of training groups will naturally result in a lower number of splits as shown below."
   ]
  },
  {
   "cell_type": "code",
   "execution_count": 16,
   "metadata": {},
   "outputs": [
    {
     "data": {
      "image/png": "[encoded data removed]",
      "text/plain": [
       "<Figure size 864x288 with 1 Axes>"
      ]
     },
     "metadata": {
      "needs_background": "light"
     },
     "output_type": "display_data"
    }
   ],
   "source": [
    "cv_args = {\"test_size\": 1, \"train_size\": 4}\n",
    "\n",
    "plot_splits(X, y, groups, **cv_args)"
   ]
  },
  {
   "cell_type": "markdown",
   "metadata": {},
   "source": [
    "### Usage in CV"
   ]
  },
  {
   "cell_type": "markdown",
   "metadata": {},
   "source": [
    "The example below illustrates how we can use the time series splitter with scikit-learn, i.e., using `cross_val_score`:"
   ]
  },
  {
   "cell_type": "code",
   "execution_count": 7,
   "metadata": {},
   "outputs": [
    {
     "name": "stdout",
     "output_type": "stream",
     "text": [
      "Split number: 1\n",
      "Train true target: [1 0 1 0 1 0 0 1]\n",
      "Train predicted target: [0 0 0 0 0 0 0 0]\n",
      "Test true target: [1 1]\n",
      "Test predicted target: [0 0]\n",
      "Accuracy: 0.0\n",
      "\n",
      "Split number: 2\n",
      "Train true target: [0 1 0 1 0 0 1 1 1]\n",
      "Train predicted target: [1 1 1 1 1 1 1 1 1]\n",
      "Test true target: [0 1]\n",
      "Test predicted target: [1 1]\n",
      "Accuracy: 0.5\n",
      "\n",
      "Split number: 3\n",
      "Train true target: [0 0 1 1 1 0 1]\n",
      "Train predicted target: [1 1 1 1 1 1 1]\n",
      "Test true target: [1 0 0 0]\n",
      "Test predicted target: [1 1 1 1]\n",
      "Accuracy: 0.25\n",
      "\n"
     ]
    }
   ],
   "source": [
    "cv = GroupTimeSeriesSplit(**cv_args)\n",
    "clf = DummyClassifier(strategy=\"most_frequent\")\n",
    "\n",
    "scores = cross_val_score(clf, X, y, groups=groups, scoring=\"accuracy\", cv=cv)\n",
    "print_cv_info(cv, X, y, groups, clf, scores)"
   ]
  },
  {
   "cell_type": "markdown",
   "metadata": {},
   "source": [
    "## Example 2 -- Multiple training groups (with number of splits specified)"
   ]
  },
  {
   "cell_type": "markdown",
   "metadata": {},
   "source": [
    "Now let's take a look at an example where we don't specify the number of training groups. Here, we will split the dataset with test size (2 groups) and a specified number of splits (3 groups), which is sufficient for calculating the training size automatically."
   ]
  },
  {
   "cell_type": "code",
   "execution_count": 8,
   "metadata": {},
   "outputs": [
    {
     "data": {
      "image/png": "[encoded data removed]",
      "text/plain": [
       "<Figure size 864x288 with 1 Axes>"
      ]
     },
     "metadata": {
      "needs_background": "light"
     },
     "output_type": "display_data"
    },
    {
     "name": "stdout",
     "output_type": "stream",
     "text": [
      "Train indices: [0 1 2 3 4]\n",
      "Test indices: [5 6 7 8 9]\n",
      "Train length: 5\n",
      "Test length: 5\n",
      "Train groups: [0 1 1 1 1]\n",
      "Test groups: [2 2 2 3 3]\n",
      "Train group size: 2\n",
      "Test group size: 2\n",
      "Train group months: ['2021-01' '2021-02' '2021-02' '2021-02' '2021-02']\n",
      "Test group months: ['2021-03' '2021-03' '2021-03' '2021-04' '2021-04']\n",
      "\n",
      "Train indices: [1 2 3 4 5 6 7]\n",
      "Test indices: [ 8  9 10 11]\n",
      "Train length: 7\n",
      "Test length: 4\n",
      "Train groups: [1 1 1 1 2 2 2]\n",
      "Test groups: [3 3 4 4]\n",
      "Train group size: 2\n",
      "Test group size: 2\n",
      "Train group months: ['2021-02' '2021-02' '2021-02' '2021-02' '2021-03' '2021-03' '2021-03']\n",
      "Test group months: ['2021-04' '2021-04' '2021-05' '2021-05']\n",
      "\n",
      "Train indices: [5 6 7 8 9]\n",
      "Test indices: [10 11 12 13 14 15]\n",
      "Train length: 5\n",
      "Test length: 6\n",
      "Train groups: [2 2 2 3 3]\n",
      "Test groups: [4 4 5 5 5 5]\n",
      "Train group size: 2\n",
      "Test group size: 2\n",
      "Train group months: ['2021-03' '2021-03' '2021-03' '2021-04' '2021-04']\n",
      "Test group months: ['2021-05' '2021-05' '2021-06' '2021-06' '2021-06' '2021-06']\n",
      "\n"
     ]
    }
   ],
   "source": [
    "cv_args = {\"test_size\": 2, \"n_splits\": 3}\n",
    "\n",
    "plot_splits(X, y, groups, **cv_args)\n",
    "print_split_info(X, y, groups, **cv_args)"
   ]
  },
  {
   "cell_type": "markdown",
   "metadata": {},
   "source": [
    "### Usage in CV"
   ]
  },
  {
   "cell_type": "markdown",
   "metadata": {},
   "source": [
    "Again, let's take a look at how this looks in a scikit-learn context using `cross_val_score`:"
   ]
  },
  {
   "cell_type": "code",
   "execution_count": 9,
   "metadata": {},
   "outputs": [
    {
     "name": "stdout",
     "output_type": "stream",
     "text": [
      "Split number: 1\n",
      "Train true target: [1 0 1 0 1]\n",
      "Train predicted target: [1 1 1 1 1]\n",
      "Test true target: [0 0 1 1 1]\n",
      "Test predicted target: [1 1 1 1 1]\n",
      "Accuracy: 0.6\n",
      "\n",
      "Split number: 2\n",
      "Train true target: [0 1 0 1 0 0 1]\n",
      "Train predicted target: [0 0 0 0 0 0 0]\n",
      "Test true target: [1 1 0 1]\n",
      "Test predicted target: [0 0 0 0]\n",
      "Accuracy: 0.25\n",
      "\n",
      "Split number: 3\n",
      "Train true target: [0 0 1 1 1]\n",
      "Train predicted target: [1 1 1 1 1]\n",
      "Test true target: [0 1 1 0 0 0]\n",
      "Test predicted target: [1 1 1 1 1 1]\n",
      "Accuracy: 0.33\n",
      "\n"
     ]
    }
   ],
   "source": [
    "cv = GroupTimeSeriesSplit(**cv_args)\n",
    "clf = DummyClassifier(strategy=\"most_frequent\")\n",
    "\n",
    "scores = cross_val_score(clf, X, y, groups=groups, scoring=\"accuracy\", cv=cv)\n",
    "print_cv_info(cv, X, y, groups, clf, scores)"
   ]
  },
  {
   "cell_type": "markdown",
   "metadata": {},
   "source": [
    "## Example 3 -- Defining the gap size between training and test datasets"
   ]
  },
  {
   "cell_type": "markdown",
   "metadata": {},
   "source": [
    "`GroupTimeSeriesSplit` let's you specify a gap size greater than 1 in order to skip a specified number of groups between training and test folds (the default gap size is 0). In the example below, we use a gap of 1 group to illustrate this."
   ]
  },
  {
   "cell_type": "code",
   "execution_count": 9,
   "metadata": {},
   "outputs": [
    {
     "data": {
      "image/png": "[encoded data removed]",
      "text/plain": [
       "<Figure size 864x288 with 1 Axes>"
      ]
     },
     "metadata": {
      "needs_background": "light"
     },
     "output_type": "display_data"
    },
    {
     "name": "stdout",
     "output_type": "stream",
     "text": [
      "Train indices: [0 1 2 3 4]\n",
      "Test indices: [8 9]\n",
      "Train length: 5\n",
      "Test length: 2\n",
      "Train groups: [0 1 1 1 1]\n",
      "Test groups: [3 3]\n",
      "Train group size: 2\n",
      "Test group size: 1\n",
      "Train group months: ['2021-01' '2021-02' '2021-02' '2021-02' '2021-02']\n",
      "Test group months: ['2021-04' '2021-04']\n",
      "\n",
      "Train indices: [1 2 3 4 5 6 7]\n",
      "Test indices: [10 11]\n",
      "Train length: 7\n",
      "Test length: 2\n",
      "Train groups: [1 1 1 1 2 2 2]\n",
      "Test groups: [4 4]\n",
      "Train group size: 2\n",
      "Test group size: 1\n",
      "Train group months: ['2021-02' '2021-02' '2021-02' '2021-02' '2021-03' '2021-03' '2021-03']\n",
      "Test group months: ['2021-05' '2021-05']\n",
      "\n",
      "Train indices: [5 6 7 8 9]\n",
      "Test indices: [12 13 14 15]\n",
      "Train length: 5\n",
      "Test length: 4\n",
      "Train groups: [2 2 2 3 3]\n",
      "Test groups: [5 5 5 5]\n",
      "Train group size: 2\n",
      "Test group size: 1\n",
      "Train group months: ['2021-03' '2021-03' '2021-03' '2021-04' '2021-04']\n",
      "Test group months: ['2021-06' '2021-06' '2021-06' '2021-06']\n",
      "\n"
     ]
    }
   ],
   "source": [
    "cv_args = {\"test_size\": 1, \"n_splits\": 3, \"gap_size\": 1}\n",
    "\n",
    "plot_splits(X, y, groups, **cv_args)\n",
    "print_split_info(X, y, groups, **cv_args)"
   ]
  },
  {
   "cell_type": "markdown",
   "metadata": {},
   "source": [
    "### Usage in CV"
   ]
  },
  {
   "cell_type": "markdown",
   "metadata": {},
   "source": [
    "The example below shows how this looks like in a scikit-learn context using `cross_val_score`:"
   ]
  },
  {
   "cell_type": "code",
   "execution_count": 10,
   "metadata": {},
   "outputs": [
    {
     "name": "stdout",
     "output_type": "stream",
     "text": [
      "Split number: 1\n",
      "Train true target: [1 0 1 0 1]\n",
      "Train predicted target: [1 1 1 1 1]\n",
      "Test true target: [1 1]\n",
      "Test predicted target: [1 1]\n",
      "Accuracy: 1.0\n",
      "\n",
      "Split number: 2\n",
      "Train true target: [0 1 0 1 0 0 1]\n",
      "Train predicted target: [0 0 0 0 0 0 0]\n",
      "Test true target: [0 1]\n",
      "Test predicted target: [0 0]\n",
      "Accuracy: 0.5\n",
      "\n",
      "Split number: 3\n",
      "Train true target: [0 0 1 1 1]\n",
      "Train predicted target: [1 1 1 1 1]\n",
      "Test true target: [1 0 0 0]\n",
      "Test predicted target: [1 1 1 1]\n",
      "Accuracy: 0.25\n",
      "\n"
     ]
    }
   ],
   "source": [
    "cv = GroupTimeSeriesSplit(**cv_args)\n",
    "clf = DummyClassifier(strategy=\"most_frequent\")\n",
    "\n",
    "scores = cross_val_score(clf, X, y, groups=groups, scoring=\"accuracy\", cv=cv)\n",
    "print_cv_info(cv, X, y, groups, clf, scores)"
   ]
  },
  {
   "cell_type": "markdown",
   "metadata": {},
   "source": [
    "## API"
   ]
  },
  {
   "cell_type": "code",
   "execution_count": 14,
   "metadata": {},
   "outputs": [
    {
     "name": "stdout",
     "output_type": "stream",
     "text": [
      "## GroupTimeSeriesSplit\n",
      "\n",
      "*GroupTimeSeriesSplit(test_size, train_size=None, n_splits=None, gap_size=0, shift_size=1, window_type='rolling')*\n",
      "\n",
      "Group time series cross-validator.\n",
      "\n",
      "**Parameters**\n",
      "\n",
      "- `test_size` : int\n",
      "\n",
      "    Size of test dataset.\n",
      "\n",
      "- `train_size` : int (default=None)\n",
      "\n",
      "    Size of train dataset.\n",
      "\n",
      "- `n_splits` : int (default=None)\n",
      "\n",
      "    Number of the splits.\n",
      "\n",
      "- `gap_size` : int (default=0)\n",
      "\n",
      "    Gap size between train and test datasets.\n",
      "\n",
      "- `shift_size` : int (default=1)\n",
      "\n",
      "    Step to shift for the next fold.\n",
      "\n",
      "- `window_type` : str (default=\"rolling\")\n",
      "\n",
      "    Type of the window. Possible values: \"rolling\", \"expanding\".\n",
      "\n",
      "**Examples**\n",
      "\n",
      "For usage examples, please see\n",
      "    http://rasbt.github.io/mlxtend/user_guide/evaluate/GroupTimeSeriesSplit/\n",
      "\n",
      "### Methods\n",
      "\n",
      "<hr>\n",
      "\n",
      "*get_n_splits(X=None, y=None, groups=None)*\n",
      "\n",
      "Returns the number of splitting iterations in the cross-validator.\n",
      "\n",
      "**Parameters**\n",
      "\n",
      "- `X` : object\n",
      "\n",
      "    Always ignored, exists for compatibility.\n",
      "\n",
      "- `y` : object\n",
      "\n",
      "    Always ignored, exists for compatibility.\n",
      "\n",
      "- `groups` : object\n",
      "\n",
      "    Always ignored, exists for compatibility.\n",
      "\n",
      "**Returns**\n",
      "\n",
      "- `n_splits` : int\n",
      "\n",
      "    Returns the number of splitting iterations in the cross-validator.\n",
      "\n",
      "<hr>\n",
      "\n",
      "*split(X, y=None, groups=None)*\n",
      "\n",
      "Generate indices to split data into training and test set.\n",
      "\n",
      "**Parameters**\n",
      "\n",
      "- `X` : array-like\n",
      "\n",
      "    Training data.\n",
      "\n",
      "- `y` : array-like (default=None)\n",
      "\n",
      "    Always ignored, exists for compatibility.\n",
      "\n",
      "- `groups` : array-like (default=None)\n",
      "\n",
      "    Array with group names or sequence numbers.\n",
      "\n",
      "**Yields**\n",
      "\n",
      "- `train` : ndarray\n",
      "\n",
      "    The training set indices for that split.\n",
      "\n",
      "- `test` : ndarray\n",
      "\n",
      "    The testing set indices for that split.\n",
      "\n",
      "\n"
     ]
    }
   ],
   "source": [
    "with open(\"../../api_modules/mlxtend.evaluate/GroupTimeSeriesSplit.md\", \"r\") as f:\n",
    "    s = f.read()\n",
    "print(s)"
   ]
  }
 ],
 "metadata": {
  "kernelspec": {
   "display_name": "Python 3 (ipykernel)",
   "language": "python",
   "name": "python3"
  },
  "language_info": {
   "codemirror_mode": {
    "name": "ipython",
    "version": 3
   },
   "file_extension": ".py",
   "mimetype": "text/x-python",
   "name": "python",
   "nbconvert_exporter": "python",
   "pygments_lexer": "ipython3",
   "version": "3.8.5"
  }
 },
 "nbformat": 4,
 "nbformat_minor": 4
}
